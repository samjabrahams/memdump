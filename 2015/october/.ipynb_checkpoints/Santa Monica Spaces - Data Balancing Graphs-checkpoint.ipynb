{
 "cells": [
  {
   "cell_type": "code",
   "execution_count": 1,
   "metadata": {
    "collapsed": false
   },
   "outputs": [],
   "source": [
    "%matplotlib inline\n",
    "import matplotlib\n",
    "import numpy as np\n",
    "import matplotlib.pyplot as plt"
   ]
  },
  {
   "cell_type": "markdown",
   "metadata": {},
   "source": [
    "# Visualize Event Data (from Santa Monica API)"
   ]
  },
  {
   "cell_type": "code",
   "execution_count": 2,
   "metadata": {
    "collapsed": true
   },
   "outputs": [],
   "source": [
    "#Meter 1 Event Times\n",
    "x1_1 = [2,5,10]\n",
    "x2_1 = [4,8]\n",
    "\n",
    "#Meter 2 Event Times\n",
    "x1_2 = [1,9]\n",
    "x2_2 = [7]"
   ]
  },
  {
   "cell_type": "code",
   "execution_count": 3,
   "metadata": {
    "collapsed": true
   },
   "outputs": [],
   "source": [
    "#Meter 1 Start Events\n",
    "s1 = [1,1,1]\n",
    "#Meter 1 End Events\n",
    "e1 = [1,1]\n",
    "\n",
    "#Meter 2 Start Events\n",
    "s2 = [2,2]\n",
    "#Meter 2 End Events\n",
    "e2 = [2]"
   ]
  },
  {
   "cell_type": "code",
   "execution_count": 15,
   "metadata": {
    "collapsed": false,
    "scrolled": true
   },
   "outputs": [
    {
     "data": {
      "text/plain": [
       "<matplotlib.text.Text at 0x108d21c50>"
      ]
     },
     "execution_count": 15,
     "metadata": {},
     "output_type": "execute_result"
    },
    {
     "data": {
      "image/png": "[encoded data removed]",
      "text/plain": [
       "<matplotlib.figure.Figure at 0x108b64d50>"
      ]
     },
     "metadata": {},
     "output_type": "display_data"
    }
   ],
   "source": [
    "plt.figure(figsize=(8,3))\n",
    "start = plt.scatter(x1_1,s1, marker='v', c='green', s=150)\n",
    "end = plt.scatter(x2_1,e1, marker='^', c='red', s=150)\n",
    "\n",
    "plt.scatter(x1_2,s2, marker='v', c='green', s=150)\n",
    "plt.scatter(x2_2,e2, marker='^', c='red', s=150)\n",
    "\n",
    "plt.xlabel('Time')\n",
    "plt.ylabel('Meter ID')\n",
    "\n",
    "plt.legend((start, end), ('Start Event', 'End Event'),\n",
    "           scatterpoints=1, loc='center right')\n",
    "plt.title('Event Data (Before transformation)')\n"
   ]
  },
  {
   "cell_type": "markdown",
   "metadata": {},
   "source": [
    "# Connecting Events to Form Sessions"
   ]
  },
  {
   "cell_type": "code",
   "execution_count": 5,
   "metadata": {
    "collapsed": true
   },
   "outputs": [],
   "source": [
    "#Meter 1 connected events\n",
    "event1_1 = [2,4]\n",
    "event2_1 = [5,8]\n",
    "event3_1 = [10,13]\n",
    "\n",
    "#meter 2 connected events\n",
    "event1_2 = [1,7]\n",
    "event2_2 = [9,13]\n",
    "\n",
    "meter_1 = [1,1]\n",
    "meter_2 = [2,2]"
   ]
  },
  {
   "cell_type": "code",
   "execution_count": 14,
   "metadata": {
    "collapsed": false
   },
   "outputs": [
    {
     "data": {
      "text/plain": [
       "<matplotlib.legend.Legend at 0x108c28c50>"
      ]
     },
     "execution_count": 14,
     "metadata": {},
     "output_type": "execute_result"
    },
    {
     "data": {
      "image/png": "[encoded data removed]",
      "text/plain": [
       "<matplotlib.figure.Figure at 0x108a2d450>"
      ]
     },
     "metadata": {},
     "output_type": "display_data"
    }
   ],
   "source": [
    "plt.figure(figsize=(8,3))\n",
    "m1 = plt.plot(event1_1, meter_1, '-bo', label='Meter 1 Session')\n",
    "plt.plot(event2_1, meter_1, '-bo')\n",
    "plt.plot(event3_1, meter_1, '-bo')\n",
    "\n",
    "m2 = plt.plot(event1_2, meter_2, '-ro', label='Meter 2 Session')\n",
    "plt.plot(event2_2, meter_2, '-ro')\n",
    "\n",
    "plt.xlabel('Time')\n",
    "plt.ylabel('Meter ID')\n",
    "\n",
    "plt.title('Events Converted to Sessions')\n",
    "plt.axis([0,12,0,3.5])\n",
    "plt.legend()"
   ]
  },
  {
   "cell_type": "markdown",
   "metadata": {},
   "source": [
    "# Using Session Cross-Sections to Make Balanced Panel Data"
   ]
  },
  {
   "cell_type": "code",
   "execution_count": 7,
   "metadata": {
    "collapsed": false
   },
   "outputs": [],
   "source": [
    "#Meters Available\n",
    "a1 = np.concatenate((np.arange(0,2,0.5), np.arange(4,5,0.5),np.arange(8,10,0.5)))\n",
    "a2 = np.concatenate((np.arange(0,1,0.5), np.arange(7,9,0.5)))\n",
    "\n",
    "#Meters Occupied\n",
    "o1 = np.concatenate((np.arange(2,4,0.5),np.arange(5,8,0.5),np.arange(10,13,0.5)))\n",
    "o2 = np.concatenate((np.arange(1,7,0.5),np.arange(9,13,0.5)))"
   ]
  },
  {
   "cell_type": "code",
   "execution_count": 8,
   "metadata": {
    "collapsed": false
   },
   "outputs": [
    {
     "data": {
      "text/plain": [
       "10"
      ]
     },
     "execution_count": 8,
     "metadata": {},
     "output_type": "execute_result"
    }
   ],
   "source": [
    "len(a1)"
   ]
  },
  {
   "cell_type": "code",
   "execution_count": 9,
   "metadata": {
    "collapsed": false
   },
   "outputs": [
    {
     "data": {
      "text/plain": [
       "6"
      ]
     },
     "execution_count": 9,
     "metadata": {},
     "output_type": "execute_result"
    }
   ],
   "source": [
    "len(a2)"
   ]
  },
  {
   "cell_type": "code",
   "execution_count": 10,
   "metadata": {
    "collapsed": false
   },
   "outputs": [
    {
     "data": {
      "text/plain": [
       "16"
      ]
     },
     "execution_count": 10,
     "metadata": {},
     "output_type": "execute_result"
    }
   ],
   "source": [
    "len(o1)"
   ]
  },
  {
   "cell_type": "code",
   "execution_count": 11,
   "metadata": {
    "collapsed": false
   },
   "outputs": [
    {
     "data": {
      "text/plain": [
       "20"
      ]
     },
     "execution_count": 11,
     "metadata": {},
     "output_type": "execute_result"
    }
   ],
   "source": [
    "len(o2)"
   ]
  },
  {
   "cell_type": "code",
   "execution_count": 12,
   "metadata": {
    "collapsed": false
   },
   "outputs": [],
   "source": [
    "meter1_available = np.empty([1,10])\n",
    "meter2_available = np.empty([1,6])\n",
    "\n",
    "meter1_occupied = np.empty([1,16])\n",
    "meter2_occupied = np.empty([1,20])\n",
    "\n",
    "meter1_available.fill(1)\n",
    "meter1_occupied.fill(1)\n",
    "meter2_available.fill(2)\n",
    "meter2_occupied.fill(2)"
   ]
  },
  {
   "cell_type": "code",
   "execution_count": 17,
   "metadata": {
    "collapsed": false
   },
   "outputs": [
    {
     "data": {
      "text/plain": [
       "<matplotlib.text.Text at 0x1090a52d0>"
      ]
     },
     "execution_count": 17,
     "metadata": {},
     "output_type": "execute_result"
    },
    {
     "data": {
      "image/png": "[encoded data removed]",
      "text/plain": [
       "<matplotlib.figure.Figure at 0x108de3250>"
      ]
     },
     "metadata": {},
     "output_type": "display_data"
    }
   ],
   "source": [
    "plt.figure(figsize=(8,3))\n",
    "\n",
    "free = plt.scatter(a1, meter1_available, c='green', marker='o')\n",
    "occ = plt.scatter(o1, meter1_occupied, c='red', marker='x')\n",
    "\n",
    "plt.scatter(a2, meter2_available, c='green', marker='o')\n",
    "plt.scatter(o2, meter2_occupied, c='red', marker='x')\n",
    "\n",
    "plt.xlabel('Time')\n",
    "plt.ylabel('Meter ID')\n",
    "\n",
    "plt.axis([0,12,0,3.5])\n",
    "plt.legend((free,occ), ('Space Availble', 'Space Occupied'), scatterpoints=1)\n",
    "plt.title('Balanced Panel Data')"
   ]
  },
  {
   "cell_type": "code",
   "execution_count": null,
   "metadata": {
    "collapsed": true
   },
   "outputs": [],
   "source": []
  }
 ],
 "metadata": {
  "kernelspec": {
   "display_name": "Python 2",
   "language": "python",
   "name": "python2"
  },
  "language_info": {
   "codemirror_mode": {
    "name": "ipython",
    "version": 2
   },
   "file_extension": ".py",
   "mimetype": "text/x-python",
   "name": "python",
   "nbconvert_exporter": "python",
   "pygments_lexer": "ipython2",
   "version": "2.7.10"
  }
 },
 "nbformat": 4,
 "nbformat_minor": 0
}
